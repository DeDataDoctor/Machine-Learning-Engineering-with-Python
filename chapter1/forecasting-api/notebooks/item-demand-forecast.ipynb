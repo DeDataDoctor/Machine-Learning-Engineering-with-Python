{
 "cells": [
  {
   "cell_type": "markdown",
   "id": "prime-width",
   "metadata": {},
   "source": [
    "# Item Demand Forecasting\n",
    "This notebook details some basic code to get a simple time series forecasting algorithms up and running for several item demand profiles. The focus here is not an optimised algorithm, but to create a simple base model from which we can explore the concepts of machine learning engineering in the rest of the book.\n",
    "\n",
    "## The Problem\n",
    "The problem outlined in the book is deceptively complex, so here we will re-iterate some of the details\n",
    "\n",
    "1. The aim is to create a suite of forecasting models for many items in many regions\n",
    "2. The user will interface with the models via a basic frontend\n",
    "3. The user should have the ability to:\n",
    "    a. Select the forecasts they want to see\n",
    "    b. Ask for a retrain of the selected forecasting models (and then have the forecasts updated)\n",
    "    c. [BONUS] Add conditional variables to perform scenario analysis\n",
    "    \n",
    "From a machine learning point of view this can be supplied via:\n",
    "\n",
    "1. A batch training of N baseline models (N = combinations of region and product)\n",
    "2. Storing of the models in MLFlow\n",
    "3. The app, when requested for specific models, can retrieve the models from MLFlow and cache them for the session\n",
    "4. The app, when requested for specific forecasts, can performt the forecasts on the cached models\n",
    "5. The app, when requested for retrains, can send a request to trigger a training run of the selected models in the original batch system.\n",
    "6. The training system, when requested for retrains, can compare performance against current models in MLFlow and decised to promote to 'production'\n",
    "7. The app will have to detect that there is a new production model in MLFlow and replace current model (to work this out)\n",
    "\n",
    "## This Notebook\n",
    "This notebook will create some baseline experiments to show that forecasting can be done at the region and item level, but will not concern itself with scaling to all regions and items nor with the deployment architecture and methodology (to be discussed later in the book)."
   ]
  },
  {
   "cell_type": "markdown",
   "id": "indie-bidding",
   "metadata": {},
   "source": [
    "## Set Up"
   ]
  },
  {
   "cell_type": "code",
   "execution_count": null,
   "id": "desirable-somalia",
   "metadata": {},
   "outputs": [],
   "source": [
    "import pandas as pd\n",
    "import numpy as np\n",
    "import matplotlib.pyplot as plt"
   ]
  },
  {
   "cell_type": "markdown",
   "id": "clinical-evidence",
   "metadata": {},
   "source": [
    "## Simulate Dataset"
   ]
  }
 ],
 "metadata": {
  "kernelspec": {
   "display_name": "Python 3",
   "language": "python",
   "name": "python3"
  },
  "language_info": {
   "codemirror_mode": {
    "name": "ipython",
    "version": 3
   },
   "file_extension": ".py",
   "mimetype": "text/x-python",
   "name": "python",
   "nbconvert_exporter": "python",
   "pygments_lexer": "ipython3",
   "version": "3.7.6"
  }
 },
 "nbformat": 4,
 "nbformat_minor": 5
}
