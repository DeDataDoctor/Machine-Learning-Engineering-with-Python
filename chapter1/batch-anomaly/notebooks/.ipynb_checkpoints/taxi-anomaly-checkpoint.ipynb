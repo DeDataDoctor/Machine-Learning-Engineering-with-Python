{
 "cells": [
  {
   "cell_type": "markdown",
   "metadata": {},
   "source": [
    "# Taxi Ride Anomalies\n",
    "This notebook details some basic code to get a simple clustering anomaly detection algorithm up and running. The focus here is not an optimised algorithm, but to create a simple base model from which we can explore the concepts of machine learning engineering in the rest of the book."
   ]
  },
  {
   "cell_type": "markdown",
   "metadata": {},
   "source": [
    "# SetUp"
   ]
  },
  {
   "cell_type": "code",
   "execution_count": 1,
   "metadata": {},
   "outputs": [],
   "source": [
    "import numpy as np\n",
    "import pandas as pd\n",
    "import matplotlib.pyplot as plt\n",
    "plt.rcParams.update({'font.size': 22})\n",
    "import datetime\n",
    "from numpy.random import MT19937\n",
    "from numpy.random import RandomState, SeedSequence\n",
    "rs = RandomState(MT19937(SeedSequence(123456789)))"
   ]
  },
  {
   "cell_type": "code",
   "execution_count": 2,
   "metadata": {},
   "outputs": [],
   "source": [
    "# Define simulate ride data function\n",
    "def simulate_ride_data():\n",
    "    # Simulate some ride data ...\n",
    "    ride_dists = np.concatenate(\n",
    "        (\n",
    "            10*np.random.random(size=370),\n",
    "            30*np.random.random(size=10), #long distances\n",
    "            10*np.random.random(size=10), #same distance\n",
    "            10*np.random.random(size=10) #same distance\n",
    "        )\n",
    "    )\n",
    "    ride_speeds = np.concatenate(\n",
    "        (\n",
    "            np.random.normal(loc=30, scale=5, size=370),\n",
    "            np.random.normal(loc=30, scale=5, size=10), # same speed\n",
    "            np.random.normal(loc=50, scale=10, size=10), # high speed\n",
    "            np.random.normal(loc=15, scale=4, size=10) #low speed\n",
    "        )\n",
    "    )\n",
    "    ride_times = ride_dists/ride_speeds\n",
    "\n",
    "    # Assemble into Data Frame\n",
    "    df = pd.DataFrame(\n",
    "        {\n",
    "            'ride_dist': ride_dists, \n",
    "            'ride_time': ride_times,  \n",
    "            'ride_speed': ride_speeds\n",
    "        }\n",
    "    )\n",
    "    ride_ids = datetime.datetime.now().strftime(\"%Y%m%d\")+df.index.astype(str)\n",
    "    df['ride_id'] = ride_ids\n",
    "\n",
    "    return df"
   ]
  },
  {
   "cell_type": "markdown",
   "metadata": {},
   "source": [
    "## The Data\n",
    "First, we will read in simulated taxi ride data for processing. We assume that the typical Exploratory Data Analysis (EDA) and modelling work have been carried out in detail by the data scientists in your team."
   ]
  },
  {
   "cell_type": "code",
   "execution_count": 3,
   "metadata": {},
   "outputs": [],
   "source": [
    "import os\n",
    "# If data present, read it in\n",
    "file_path = '../data/taxi-rides.csv'\n",
    "if os.path.exists(file_path):\n",
    "    df = pd.read_csv(file_path)\n",
    "else:\n",
    "    df = simulate_ride_data()\n",
    "    df.to_csv('../data/taxi-rides.csv', index=False)"
   ]
  },
  {
   "cell_type": "code",
   "execution_count": 4,
   "metadata": {},
   "outputs": [
    {
     "data": {
      "text/plain": [
       "<AxesSubplot:>"
      ]
     },
     "execution_count": 4,
     "metadata": {},
     "output_type": "execute_result"
    },
    {
     "data": {
      "image/png": "[encoded data removed]",
      "text/plain": [
       "<Figure size 432x288 with 1 Axes>"
      ]
     },
     "metadata": {
      "needs_background": "light"
     },
     "output_type": "display_data"
    }
   ],
   "source": [
    "(df['ride_time']*60).hist()"
   ]
  },
  {
   "cell_type": "code",
   "execution_count": 5,
   "metadata": {},
   "outputs": [
    {
     "data": {
      "text/plain": [
       "<AxesSubplot:>"
      ]
     },
     "execution_count": 5,
     "metadata": {},
     "output_type": "execute_result"
    },
    {
     "data": {
      "image/png": "[encoded data removed]",
      "text/plain": [
       "<Figure size 432x288 with 1 Axes>"
      ]
     },
     "metadata": {
      "needs_background": "light"
     },
     "output_type": "display_data"
    }
   ],
   "source": [
    "df['ride_dist'].hist()"
   ]
  },
  {
   "cell_type": "code",
   "execution_count": 6,
   "metadata": {},
   "outputs": [
    {
     "data": {
      "text/plain": [
       "<AxesSubplot:>"
      ]
     },
     "execution_count": 6,
     "metadata": {},
     "output_type": "execute_result"
    },
    {
     "data": {
      "image/png": "[encoded data removed]",
      "text/plain": [
       "<Figure size 432x288 with 1 Axes>"
      ]
     },
     "metadata": {
      "needs_background": "light"
     },
     "output_type": "display_data"
    }
   ],
   "source": [
    "df['ride_speed'].hist()"
   ]
  },
  {
   "cell_type": "code",
   "execution_count": 7,
   "metadata": {},
   "outputs": [
    {
     "data": {
      "text/plain": [
       "<AxesSubplot:xlabel='ride_dist', ylabel='ride_time'>"
      ]
     },
     "execution_count": 7,
     "metadata": {},
     "output_type": "execute_result"
    },
    {
     "data": {
      "image/png": "[encoded data removed]",
      "text/plain": [
       "<Figure size 432x288 with 1 Axes>"
      ]
     },
     "metadata": {
      "needs_background": "light"
     },
     "output_type": "display_data"
    }
   ],
   "source": [
    "df.plot(x='ride_dist', y='ride_time', kind='scatter')"
   ]
  },
  {
   "cell_type": "code",
   "execution_count": 8,
   "metadata": {},
   "outputs": [
    {
     "data": {
      "text/html": [
       "<div>\n",
       "<style scoped>\n",
       "    .dataframe tbody tr th:only-of-type {\n",
       "        vertical-align: middle;\n",
       "    }\n",
       "\n",
       "    .dataframe tbody tr th {\n",
       "        vertical-align: top;\n",
       "    }\n",
       "\n",
       "    .dataframe thead th {\n",
       "        text-align: right;\n",
       "    }\n",
       "</style>\n",
       "<table border=\"1\" class=\"dataframe\">\n",
       "  <thead>\n",
       "    <tr style=\"text-align: right;\">\n",
       "      <th></th>\n",
       "      <th>ride_dist</th>\n",
       "      <th>ride_time</th>\n",
       "      <th>ride_speed</th>\n",
       "      <th>ride_id</th>\n",
       "    </tr>\n",
       "  </thead>\n",
       "  <tbody>\n",
       "    <tr>\n",
       "      <th>0</th>\n",
       "      <td>8.767095</td>\n",
       "      <td>0.424896</td>\n",
       "      <td>20.633506</td>\n",
       "      <td>202102060</td>\n",
       "    </tr>\n",
       "    <tr>\n",
       "      <th>1</th>\n",
       "      <td>3.943881</td>\n",
       "      <td>0.129886</td>\n",
       "      <td>30.364085</td>\n",
       "      <td>202102061</td>\n",
       "    </tr>\n",
       "    <tr>\n",
       "      <th>2</th>\n",
       "      <td>3.900041</td>\n",
       "      <td>0.138422</td>\n",
       "      <td>28.174913</td>\n",
       "      <td>202102062</td>\n",
       "    </tr>\n",
       "    <tr>\n",
       "      <th>3</th>\n",
       "      <td>9.673081</td>\n",
       "      <td>0.324040</td>\n",
       "      <td>29.851513</td>\n",
       "      <td>202102063</td>\n",
       "    </tr>\n",
       "    <tr>\n",
       "      <th>4</th>\n",
       "      <td>0.224170</td>\n",
       "      <td>0.007435</td>\n",
       "      <td>30.149681</td>\n",
       "      <td>202102064</td>\n",
       "    </tr>\n",
       "  </tbody>\n",
       "</table>\n",
       "</div>"
      ],
      "text/plain": [
       "   ride_dist  ride_time  ride_speed    ride_id\n",
       "0   8.767095   0.424896   20.633506  202102060\n",
       "1   3.943881   0.129886   30.364085  202102061\n",
       "2   3.900041   0.138422   28.174913  202102062\n",
       "3   9.673081   0.324040   29.851513  202102063\n",
       "4   0.224170   0.007435   30.149681  202102064"
      ]
     },
     "execution_count": 8,
     "metadata": {},
     "output_type": "execute_result"
    }
   ],
   "source": [
    "df.head()"
   ]
  },
  {
   "cell_type": "markdown",
   "metadata": {},
   "source": [
    "# Clustering with DBSCAN"
   ]
  },
  {
   "cell_type": "code",
   "execution_count": 9,
   "metadata": {},
   "outputs": [],
   "source": [
    "from sklearn.preprocessing import StandardScaler\n",
    "from sklearn.cluster import DBSCAN\n",
    "from sklearn import metrics"
   ]
  },
  {
   "cell_type": "code",
   "execution_count": 10,
   "metadata": {},
   "outputs": [],
   "source": [
    "def cluster_and_label(X, create_and_show_plot=True):\n",
    "    X = StandardScaler().fit_transform(X)\n",
    "    db = DBSCAN(eps=0.3, min_samples=10).fit(X)\n",
    "\n",
    "    # Find labels from the clustering\n",
    "    core_samples_mask = np.zeros_like(db.labels_, dtype=bool)\n",
    "    core_samples_mask[db.core_sample_indices_] = True\n",
    "    labels = db.labels_\n",
    "\n",
    "    # Number of clusters in labels, ignoring noise if present.\n",
    "    n_clusters_ = len(set(labels)) - (1 if -1 in labels else 0)\n",
    "    n_noise_ = list(labels).count(-1)\n",
    "\n",
    "    print('Estimated number of clusters: %d' % n_clusters_)\n",
    "    print('Estimated number of noise points: %d' % n_noise_)\n",
    "    #print(\"Homogeneity: %0.3f\" % metrics.homogeneity_score(labels_true, labels))\n",
    "    #print(\"Completeness: %0.3f\" % metrics.completeness_score(labels_true, labels))\n",
    "    #print(\"V-measure: %0.3f\" % metrics.v_measure_score(labels_true, labels))\n",
    "    #print(\"Adjusted Rand Index: %0.3f\"\n",
    "    #      % metrics.adjusted_rand_score(labels_true, labels))\n",
    "    #print(\"Adjusted Mutual Information: %0.3f\"\n",
    "    #      % metrics.adjusted_mutual_info_score(labels_true, labels))\n",
    "    print(\"Silhouette Coefficient: %0.3f\"\n",
    "          % metrics.silhouette_score(X, labels))\n",
    "\n",
    "    run_metadata = {\n",
    "        'nClusters': n_clusters_,\n",
    "        'nNoise': n_noise_,\n",
    "        'silhouetteCoefficient': metrics.silhouette_score(X, labels),\n",
    "        'labels': labels,\n",
    "    }\n",
    "    if create_and_show_plot == True:\n",
    "        fig = plt.figure(figsize=(10,10))\n",
    "        # Black removed and is used for noise instead.\n",
    "        unique_labels = set(labels)\n",
    "        colors = [plt.cm.cool(each)\n",
    "                  for each in np.linspace(0, 1, len(unique_labels))]\n",
    "        for k, col in zip(unique_labels, colors):\n",
    "            if k == -1:\n",
    "                # Black used for noise.\n",
    "                col = [0, 0, 0, 1]\n",
    "            class_member_mask = (labels== k)\n",
    "            xy = X[class_member_mask & core_samples_mask]\n",
    "            plt.plot(xy[:, 0], xy[:, 1], 'o', markerfacecolor=tuple(col),\n",
    "                     markeredgecolor='k', markersize=14)\n",
    "            xy = X[class_member_mask & ~core_samples_mask]\n",
    "            plt.plot(xy[:, 0], xy[:, 1], '^', markerfacecolor=tuple(col),\n",
    "                     markeredgecolor='k', markersize=14)\n",
    "            \n",
    "        plt.xlabel('Standard Scaled Ride Dist.')\n",
    "        plt.ylabel('Standard Scaled Ride Time')\n",
    "        plt.title('Estimated number of clusters: %d' % n_clusters_)\n",
    "        plt.show()\n",
    "    else:\n",
    "        pass\n",
    "    return run_metadata"
   ]
  },
  {
   "cell_type": "code",
   "execution_count": 11,
   "metadata": {},
   "outputs": [
    {
     "name": "stdout",
     "output_type": "stream",
     "text": [
      "Estimated number of clusters: 1\n",
      "Estimated number of noise points: 16\n",
      "Silhouette Coefficient: 0.672\n"
     ]
    },
    {
     "data": {
      "image/png": "[encoded data removed]",
      "text/plain": [
       "<Figure size 720x720 with 1 Axes>"
      ]
     },
     "metadata": {
      "needs_background": "light"
     },
     "output_type": "display_data"
    }
   ],
   "source": [
    "# Create some nice plots\n",
    "X = df[['ride_dist', 'ride_time']]\n",
    "results = cluster_and_label(X)\n",
    "df['label'] = results['labels']"
   ]
  },
  {
   "cell_type": "code",
   "execution_count": 18,
   "metadata": {},
   "outputs": [],
   "source": [
    "df.to_json('../output/labels.json', orient='records')"
   ]
  },
  {
   "cell_type": "code",
   "execution_count": 13,
   "metadata": {},
   "outputs": [
    {
     "data": {
      "text/plain": [
       "'[{\"ride_dist\":7.1173771841,\"ride_time\":0.4040181711,\"ride_speed\":17.6164779022,\"ride_id\":\"2021020625\",\"label\":-1},{\"ride_dist\":21.3390555055,\"ride_time\":0.6385394654,\"ride_speed\":33.418538185,\"ride_id\":\"20210206370\",\"label\":-1},{\"ride_dist\":16.5281365487,\"ride_time\":0.499012726,\"ride_speed\":33.1216734306,\"ride_id\":\"20210206371\",\"label\":-1},{\"ride_dist\":29.7485479097,\"ride_time\":1.46186523,\"ride_speed\":20.349719864,\"ride_id\":\"20210206372\",\"label\":-1},{\"ride_dist\":13.13527112,\"ride_time\":0.4216847534,\"ride_speed\":31.1495044919,\"ride_id\":\"20210206373\",\"label\":-1},{\"ride_dist\":15.8381308852,\"ride_time\":0.4668199019,\"ride_speed\":33.9277113499,\"ride_id\":\"20210206374\",\"label\":-1},{\"ride_dist\":22.4134565908,\"ride_time\":0.6500863848,\"ride_speed\":34.4776588378,\"ride_id\":\"20210206376\",\"label\":-1},{\"ride_dist\":14.1294368718,\"ride_time\":0.5902402785,\"ride_speed\":23.9384491157,\"ride_id\":\"20210206377\",\"label\":-1},{\"ride_dist\":13.1672998149,\"ride_time\":0.4543407112,\"ride_speed\":28.9811137097,\"ride_id\":\"20210206378\",\"label\":-1},{\"ride_dist\":25.6123393681,\"ride_time\":0.9105009312,\"ride_speed\":28.1299430778,\"ride_id\":\"20210206379\",\"label\":-1},{\"ride_dist\":8.6109309799,\"ride_time\":0.5667438512,\"ride_speed\":15.1936910507,\"ride_id\":\"20210206393\",\"label\":-1},{\"ride_dist\":4.0290171006,\"ride_time\":0.3233801787,\"ride_speed\":12.459072528,\"ride_id\":\"20210206395\",\"label\":-1},{\"ride_dist\":4.5813454986,\"ride_time\":0.4408200179,\"ride_speed\":10.392780074,\"ride_id\":\"20210206396\",\"label\":-1},{\"ride_dist\":3.6365054842,\"ride_time\":0.3182636151,\"ride_speed\":11.4260798657,\"ride_id\":\"20210206397\",\"label\":-1},{\"ride_dist\":9.5924387113,\"ride_time\":1.3080895411,\"ride_speed\":7.3331667365,\"ride_id\":\"20210206398\",\"label\":-1},{\"ride_dist\":7.2228635975,\"ride_time\":0.8031665864,\"ride_speed\":8.9929831745,\"ride_id\":\"20210206399\",\"label\":-1}]'"
      ]
     },
     "execution_count": 13,
     "metadata": {},
     "output_type": "execute_result"
    }
   ],
   "source": [
    "df[df['label']==-1].to_json(orient='records')"
   ]
  }
 ],
 "metadata": {
  "kernelspec": {
   "display_name": "Python 3",
   "language": "python",
   "name": "python3"
  },
  "language_info": {
   "codemirror_mode": {
    "name": "ipython",
    "version": 3
   },
   "file_extension": ".py",
   "mimetype": "text/x-python",
   "name": "python",
   "nbconvert_exporter": "python",
   "pygments_lexer": "ipython3",
   "version": "3.8.5"
  }
 },
 "nbformat": 4,
 "nbformat_minor": 4
}
