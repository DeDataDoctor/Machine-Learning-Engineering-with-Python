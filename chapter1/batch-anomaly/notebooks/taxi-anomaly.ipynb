{
 "cells": [
  {
   "cell_type": "markdown",
   "metadata": {},
   "source": [
    "# Taxi Ride Anomalies\n",
    "This notebook details some basic code to get a simple clustering anomaly detection algorithm up and running. The focus here is not an optimised algorithm, but to create a simple base model from which we can explore the concepts of machine learning engineering in the rest of the book."
   ]
  },
  {
   "cell_type": "markdown",
   "metadata": {},
   "source": [
    "# SetUp"
   ]
  },
  {
   "cell_type": "code",
   "execution_count": 1,
   "metadata": {},
   "outputs": [],
   "source": [
    "import numpy as np\n",
    "import pandas as pd\n",
    "import matplotlib.pyplot as plt\n",
    "import datetime\n",
    "from numpy.random import MT19937\n",
    "from numpy.random import RandomState, SeedSequence\n",
    "rs = RandomState(MT19937(SeedSequence(123456789)))"
   ]
  },
  {
   "cell_type": "code",
   "execution_count": 2,
   "metadata": {},
   "outputs": [],
   "source": [
    "# Define simulate ride data function\n",
    "def simulate_ride_data():\n",
    "    # Simulate some ride data ...\n",
    "    ride_dists = np.concatenate(\n",
    "        (\n",
    "            10*np.random.random(size=370),\n",
    "            30*np.random.random(size=10), #long distances\n",
    "            10*np.random.random(size=10), #same distance\n",
    "            10*np.random.random(size=10) #same distance\n",
    "        )\n",
    "    )\n",
    "    ride_speeds = np.concatenate(\n",
    "        (\n",
    "            np.random.normal(loc=30, scale=5, size=370),\n",
    "            np.random.normal(loc=30, scale=5, size=10), # same speed\n",
    "            np.random.normal(loc=50, scale=10, size=10), # high speed\n",
    "            np.random.normal(loc=15, scale=4, size=10) #low speed\n",
    "        )\n",
    "    )\n",
    "    ride_times = ride_dists/ride_speeds\n",
    "\n",
    "    # Assemble into Data Frame\n",
    "    df = pd.DataFrame(\n",
    "        {\n",
    "            'ride_dist': ride_dists, \n",
    "            'ride_time': ride_times,  \n",
    "            'ride_speed': ride_speeds\n",
    "        }\n",
    "    )\n",
    "    ride_ids = datetime.datetime.now().strftime(\"%Y%m%d\")+df.index.astype(str)\n",
    "    df['ride_id'] = ride_ids\n",
    "\n",
    "    return df"
   ]
  },
  {
   "cell_type": "markdown",
   "metadata": {},
   "source": [
    "## The Data\n",
    "First, we will read in simulated taxi ride data for processing. We assume that the typical Exploratory Data Analysis (EDA) and modelling work have been carried out in detail by the data scientists in your team."
   ]
  },
  {
   "cell_type": "code",
   "execution_count": 3,
   "metadata": {},
   "outputs": [],
   "source": [
    "import os\n",
    "# If data present, read it in\n",
    "file_path = '../data/taxi-rides.csv'\n",
    "if os.path.exists(file_path):\n",
    "    df = pd.read_csv(file_path)\n",
    "else:\n",
    "    df = simulate_ride_data()\n",
    "    df.to_csv('../data/taxi-rides.csv', index=False)"
   ]
  },
  {
   "cell_type": "code",
   "execution_count": 4,
   "metadata": {},
   "outputs": [
    {
     "data": {
      "text/plain": [
       "<matplotlib.axes._subplots.AxesSubplot at 0x7fb153b66fd0>"
      ]
     },
     "execution_count": 4,
     "metadata": {},
     "output_type": "execute_result"
    },
    {
     "data": {
      "image/png": "[encoded data removed]",
      "text/plain": [
       "<Figure size 432x288 with 1 Axes>"
      ]
     },
     "metadata": {
      "needs_background": "light"
     },
     "output_type": "display_data"
    }
   ],
   "source": [
    "(df['ride_time']*60).hist()"
   ]
  },
  {
   "cell_type": "code",
   "execution_count": 5,
   "metadata": {},
   "outputs": [
    {
     "data": {
      "text/plain": [
       "<matplotlib.axes._subplots.AxesSubplot at 0x7fb153c62b50>"
      ]
     },
     "execution_count": 5,
     "metadata": {},
     "output_type": "execute_result"
    },
    {
     "data": {
      "image/png": "[encoded data removed]",
      "text/plain": [
       "<Figure size 432x288 with 1 Axes>"
      ]
     },
     "metadata": {
      "needs_background": "light"
     },
     "output_type": "display_data"
    }
   ],
   "source": [
    "df['ride_dist'].hist()"
   ]
  },
  {
   "cell_type": "code",
   "execution_count": 6,
   "metadata": {},
   "outputs": [
    {
     "data": {
      "text/plain": [
       "<matplotlib.axes._subplots.AxesSubplot at 0x7fb153da8cd0>"
      ]
     },
     "execution_count": 6,
     "metadata": {},
     "output_type": "execute_result"
    },
    {
     "data": {
      "image/png": "[encoded data removed]",
      "text/plain": [
       "<Figure size 432x288 with 1 Axes>"
      ]
     },
     "metadata": {
      "needs_background": "light"
     },
     "output_type": "display_data"
    }
   ],
   "source": [
    "df['ride_speed'].hist()"
   ]
  },
  {
   "cell_type": "code",
   "execution_count": 7,
   "metadata": {},
   "outputs": [
    {
     "data": {
      "text/plain": [
       "<matplotlib.axes._subplots.AxesSubplot at 0x7fb153e70750>"
      ]
     },
     "execution_count": 7,
     "metadata": {},
     "output_type": "execute_result"
    },
    {
     "data": {
      "image/png": "[encoded data removed]",
      "text/plain": [
       "<Figure size 432x288 with 1 Axes>"
      ]
     },
     "metadata": {
      "needs_background": "light"
     },
     "output_type": "display_data"
    }
   ],
   "source": [
    "df.plot(x='ride_dist', y='ride_time', kind='scatter')"
   ]
  },
  {
   "cell_type": "code",
   "execution_count": 8,
   "metadata": {},
   "outputs": [
    {
     "data": {
      "text/html": [
       "<div>\n",
       "<style scoped>\n",
       "    .dataframe tbody tr th:only-of-type {\n",
       "        vertical-align: middle;\n",
       "    }\n",
       "\n",
       "    .dataframe tbody tr th {\n",
       "        vertical-align: top;\n",
       "    }\n",
       "\n",
       "    .dataframe thead th {\n",
       "        text-align: right;\n",
       "    }\n",
       "</style>\n",
       "<table border=\"1\" class=\"dataframe\">\n",
       "  <thead>\n",
       "    <tr style=\"text-align: right;\">\n",
       "      <th></th>\n",
       "      <th>ride_dist</th>\n",
       "      <th>ride_time</th>\n",
       "      <th>ride_speed</th>\n",
       "      <th>ride_id</th>\n",
       "    </tr>\n",
       "  </thead>\n",
       "  <tbody>\n",
       "    <tr>\n",
       "      <th>0</th>\n",
       "      <td>3.725930</td>\n",
       "      <td>0.116347</td>\n",
       "      <td>32.024258</td>\n",
       "      <td>202102010</td>\n",
       "    </tr>\n",
       "    <tr>\n",
       "      <th>1</th>\n",
       "      <td>2.107744</td>\n",
       "      <td>0.075555</td>\n",
       "      <td>27.896846</td>\n",
       "      <td>202102011</td>\n",
       "    </tr>\n",
       "    <tr>\n",
       "      <th>2</th>\n",
       "      <td>0.277533</td>\n",
       "      <td>0.008079</td>\n",
       "      <td>34.351335</td>\n",
       "      <td>202102012</td>\n",
       "    </tr>\n",
       "    <tr>\n",
       "      <th>3</th>\n",
       "      <td>3.107699</td>\n",
       "      <td>0.110969</td>\n",
       "      <td>28.005100</td>\n",
       "      <td>202102013</td>\n",
       "    </tr>\n",
       "    <tr>\n",
       "      <th>4</th>\n",
       "      <td>4.200160</td>\n",
       "      <td>0.186027</td>\n",
       "      <td>22.578203</td>\n",
       "      <td>202102014</td>\n",
       "    </tr>\n",
       "  </tbody>\n",
       "</table>\n",
       "</div>"
      ],
      "text/plain": [
       "   ride_dist  ride_time  ride_speed    ride_id\n",
       "0   3.725930   0.116347   32.024258  202102010\n",
       "1   2.107744   0.075555   27.896846  202102011\n",
       "2   0.277533   0.008079   34.351335  202102012\n",
       "3   3.107699   0.110969   28.005100  202102013\n",
       "4   4.200160   0.186027   22.578203  202102014"
      ]
     },
     "execution_count": 8,
     "metadata": {},
     "output_type": "execute_result"
    }
   ],
   "source": [
    "df.head()"
   ]
  },
  {
   "cell_type": "markdown",
   "metadata": {},
   "source": [
    "# Clustering with DBSCAN"
   ]
  },
  {
   "cell_type": "code",
   "execution_count": 9,
   "metadata": {},
   "outputs": [],
   "source": [
    "from sklearn.preprocessing import StandardScaler\n",
    "from sklearn.cluster import DBSCAN\n",
    "from sklearn import metrics"
   ]
  },
  {
   "cell_type": "code",
   "execution_count": 10,
   "metadata": {},
   "outputs": [],
   "source": [
    "def cluster_and_label(X, create_and_show_plot=True):\n",
    "    X = StandardScaler().fit_transform(X)\n",
    "    db = DBSCAN(eps=0.3, min_samples=10).fit(X)\n",
    "\n",
    "    # Find labels from the clustering\n",
    "    core_samples_mask = np.zeros_like(db.labels_, dtype=bool)\n",
    "    core_samples_mask[db.core_sample_indices_] = True\n",
    "    labels = db.labels_\n",
    "\n",
    "    # Number of clusters in labels, ignoring noise if present.\n",
    "    n_clusters_ = len(set(labels)) - (1 if -1 in labels else 0)\n",
    "    n_noise_ = list(labels).count(-1)\n",
    "\n",
    "    print('Estimated number of clusters: %d' % n_clusters_)\n",
    "    print('Estimated number of noise points: %d' % n_noise_)\n",
    "    #print(\"Homogeneity: %0.3f\" % metrics.homogeneity_score(labels_true, labels))\n",
    "    #print(\"Completeness: %0.3f\" % metrics.completeness_score(labels_true, labels))\n",
    "    #print(\"V-measure: %0.3f\" % metrics.v_measure_score(labels_true, labels))\n",
    "    #print(\"Adjusted Rand Index: %0.3f\"\n",
    "    #      % metrics.adjusted_rand_score(labels_true, labels))\n",
    "    #print(\"Adjusted Mutual Information: %0.3f\"\n",
    "    #      % metrics.adjusted_mutual_info_score(labels_true, labels))\n",
    "    print(\"Silhouette Coefficient: %0.3f\"\n",
    "          % metrics.silhouette_score(X, labels))\n",
    "\n",
    "    run_metadata = {\n",
    "        'nClusters': n_clusters_,\n",
    "        'nNoise': n_noise_,\n",
    "        'silhouetteCoefficient': metrics.silhouette_score(X, labels),\n",
    "        'labels': labels,\n",
    "    }\n",
    "    if create_and_show_plot == True:\n",
    "        # Black removed and is used for noise instead.\n",
    "        unique_labels = set(labels)\n",
    "        colors = [plt.cm.Spectral(each)\n",
    "                  for each in np.linspace(0, 1, len(unique_labels))]\n",
    "        for k, col in zip(unique_labels, colors):\n",
    "            if k == -1:\n",
    "                # Black used for noise.\n",
    "                col = [0, 0, 0, 1]\n",
    "            class_member_mask = (labels== k)\n",
    "            xy = X[class_member_mask & core_samples_mask]\n",
    "            plt.plot(xy[:, 0], xy[:, 1], 'o', markerfacecolor=tuple(col),\n",
    "                     markeredgecolor='k', markersize=14)\n",
    "            xy = X[class_member_mask & ~core_samples_mask]\n",
    "            plt.plot(xy[:, 0], xy[:, 1], 'o', markerfacecolor=tuple(col),\n",
    "                     markeredgecolor='k', markersize=6)\n",
    "        plt.title('Estimated number of clusters: %d' % n_clusters_)\n",
    "        plt.show()\n",
    "    else:\n",
    "        pass\n",
    "    return run_metadata"
   ]
  },
  {
   "cell_type": "code",
   "execution_count": 11,
   "metadata": {},
   "outputs": [
    {
     "name": "stdout",
     "output_type": "stream",
     "text": [
      "Estimated number of clusters: 1\n",
      "Estimated number of noise points: 18\n",
      "Silhouette Coefficient: 0.617\n"
     ]
    },
    {
     "data": {
      "image/png": "[encoded data removed]",
      "text/plain": [
       "<Figure size 432x288 with 1 Axes>"
      ]
     },
     "metadata": {
      "needs_background": "light"
     },
     "output_type": "display_data"
    }
   ],
   "source": [
    "# Create some nice plots\n",
    "X = df[['ride_dist', 'ride_time']]\n",
    "results = cluster_and_label(X)\n",
    "df['label'] = results['labels']"
   ]
  },
  {
   "cell_type": "code",
   "execution_count": 12,
   "metadata": {},
   "outputs": [
    {
     "data": {
      "text/plain": [
       "90"
      ]
     },
     "execution_count": 12,
     "metadata": {},
     "output_type": "execute_result"
    }
   ],
   "source": [
    "df[df['label']==-1].size"
   ]
  },
  {
   "cell_type": "code",
   "execution_count": 13,
   "metadata": {},
   "outputs": [
    {
     "data": {
      "text/plain": [
       "'[{\"ride_dist\":6.1512997946,\"ride_time\":0.4331326178,\"ride_speed\":14.2018853837,\"ride_id\":\"2021020187\",\"label\":-1},{\"ride_dist\":9.1775726456,\"ride_time\":0.4572645668,\"ride_speed\":20.0705965676,\"ride_id\":\"20210201128\",\"label\":-1},{\"ride_dist\":6.7719909282,\"ride_time\":0.3948133634,\"ride_speed\":17.1523852959,\"ride_id\":\"20210201260\",\"label\":-1},{\"ride_dist\":6.7877486965,\"ride_time\":0.3581858365,\"ride_speed\":18.9503548286,\"ride_id\":\"20210201344\",\"label\":-1},{\"ride_dist\":6.8753997082,\"ride_time\":0.4795502116,\"ride_speed\":14.3371841823,\"ride_id\":\"20210201354\",\"label\":-1},{\"ride_dist\":19.1953404413,\"ride_time\":0.537191431,\"ride_speed\":35.7327748228,\"ride_id\":\"20210201370\",\"label\":-1},{\"ride_dist\":28.8901328819,\"ride_time\":0.902440564,\"ride_speed\":32.0133358734,\"ride_id\":\"20210201371\",\"label\":-1},{\"ride_dist\":15.3300039756,\"ride_time\":0.5236292094,\"ride_speed\":29.2764492515,\"ride_id\":\"20210201372\",\"label\":-1},{\"ride_dist\":22.9493131435,\"ride_time\":0.8390347716,\"ride_speed\":27.3520406061,\"ride_id\":\"20210201374\",\"label\":-1},{\"ride_dist\":28.2928355534,\"ride_time\":0.7737766108,\"ride_speed\":36.5646042501,\"ride_id\":\"20210201376\",\"label\":-1},{\"ride_dist\":24.4400412081,\"ride_time\":0.9648307959,\"ride_speed\":25.3309091207,\"ride_id\":\"20210201377\",\"label\":-1},{\"ride_dist\":28.9402463692,\"ride_time\":0.8070239267,\"ride_speed\":35.8604564396,\"ride_id\":\"20210201379\",\"label\":-1},{\"ride_dist\":9.8269504473,\"ride_time\":0.1965212344,\"ride_speed\":50.0045222896,\"ride_id\":\"20210201384\",\"label\":-1},{\"ride_dist\":8.4840772874,\"ride_time\":0.4565340298,\"ride_speed\":18.5836689783,\"ride_id\":\"20210201391\",\"label\":-1},{\"ride_dist\":2.1766570717,\"ride_time\":0.2157954703,\"ride_speed\":10.0866671055,\"ride_id\":\"20210201392\",\"label\":-1},{\"ride_dist\":2.8276293346,\"ride_time\":0.3558965443,\"ride_speed\":7.9450879192,\"ride_id\":\"20210201393\",\"label\":-1},{\"ride_dist\":9.9974439088,\"ride_time\":0.5939536295,\"ride_speed\":16.8320276407,\"ride_id\":\"20210201395\",\"label\":-1},{\"ride_dist\":2.9994904037,\"ride_time\":0.2420312336,\"ride_speed\":12.3929889501,\"ride_id\":\"20210201398\",\"label\":-1}]'"
      ]
     },
     "execution_count": 13,
     "metadata": {},
     "output_type": "execute_result"
    }
   ],
   "source": [
    "df[df['label']==-1].to_json(orient='records')"
   ]
  },
  {
   "cell_type": "code",
   "execution_count": null,
   "metadata": {},
   "outputs": [],
   "source": []
  }
 ],
 "metadata": {
  "kernelspec": {
   "display_name": "Python 3",
   "language": "python",
   "name": "python3"
  },
  "language_info": {
   "codemirror_mode": {
    "name": "ipython",
    "version": 3
   },
   "file_extension": ".py",
   "mimetype": "text/x-python",
   "name": "python",
   "nbconvert_exporter": "python",
   "pygments_lexer": "ipython3",
   "version": "3.7.6"
  }
 },
 "nbformat": 4,
 "nbformat_minor": 4
}
